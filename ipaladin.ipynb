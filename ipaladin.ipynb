{
 "cells": [
  {
   "cell_type": "markdown",
   "id": "a8faa44f-981d-414e-8bc2-913204aab8f1",
   "metadata": {},
   "source": [
    "# Аладин\n",
    "## 1) В таргет ввоодите центральный объект\n",
    "## 2) fov - угловое расстояние от объекта (потом можно менять)\n",
    "## 3) Запускайте код\n",
    "Слева конпка \"стопка листочков\", там можно выбрать \"Типо в каких диапазона волн снята картинка\"\n",
    "При желании можно легко подклучить каталоги.  Т.е. при нажатии на объект высветиться имя, класс, масса, координаты...\n",
    "К сожалению картинку лучшее png вытащить не получилось "
   ]
  },
  {
   "cell_type": "code",
   "execution_count": 6,
   "id": "3dc424b2-644b-4299-b9c9-bc37b6c5ac98",
   "metadata": {},
   "outputs": [
    {
     "data": {
      "application/vnd.jupyter.widget-view+json": {
       "model_id": "95e56d3f07f546949f8f917415baf6a7",
       "version_major": 2,
       "version_minor": 1
      },
      "text/plain": [
       "Aladin()"
      ]
     },
     "execution_count": 6,
     "metadata": {},
     "output_type": "execute_result"
    }
   ],
   "source": [
    "from ipyaladin  import Aladin\n",
    "aladin =  Aladin(target = 'NGC 6888',fov = 5)\n",
    "aladin"
   ]
  },
  {
   "cell_type": "code",
   "execution_count": null,
   "id": "e4662da0-400c-427b-ae3f-84e88b5731c9",
   "metadata": {},
   "outputs": [],
   "source": []
  }
 ],
 "metadata": {
  "kernelspec": {
   "display_name": "Python [conda env:base] *",
   "language": "python",
   "name": "conda-base-py"
  },
  "language_info": {
   "codemirror_mode": {
    "name": "ipython",
    "version": 3
   },
   "file_extension": ".py",
   "mimetype": "text/x-python",
   "name": "python",
   "nbconvert_exporter": "python",
   "pygments_lexer": "ipython3",
   "version": "3.13.5"
  }
 },
 "nbformat": 4,
 "nbformat_minor": 5
}
